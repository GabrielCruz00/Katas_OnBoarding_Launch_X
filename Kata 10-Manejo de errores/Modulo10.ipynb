{
 "cells": [
  {
   "cell_type": "markdown",
   "metadata": {},
   "source": [
    "# Manejo de Errores"
   ]
  },
  {
   "cell_type": "markdown",
   "metadata": {},
   "source": [
    "## Tracebacks"
   ]
  },
  {
   "cell_type": "code",
   "execution_count": 2,
   "metadata": {},
   "outputs": [
    {
     "ename": "FileNotFoundError",
     "evalue": "[Errno 2] No such file or directory: '/path/to/mars.jpg'",
     "output_type": "error",
     "traceback": [
      "\u001b[1;31m---------------------------------------------------------------------------\u001b[0m",
      "\u001b[1;31mFileNotFoundError\u001b[0m                         Traceback (most recent call last)",
      "\u001b[1;32mc:\\Users\\gabo0\\Documents\\Launch X\\Modulos\\Modulo 10\\Modulo10.ipynb Cell 3'\u001b[0m in \u001b[0;36m<module>\u001b[1;34m\u001b[0m\n\u001b[0;32m      <a href='vscode-notebook-cell:/c%3A/Users/gabo0/Documents/Launch%20X/Modulos/Modulo%2010/Modulo10.ipynb#ch0000000?line=0'>1</a>\u001b[0m \u001b[39m# Archivo inexistente \u001b[39;00m\n\u001b[1;32m----> <a href='vscode-notebook-cell:/c%3A/Users/gabo0/Documents/Launch%20X/Modulos/Modulo%2010/Modulo10.ipynb#ch0000000?line=1'>2</a>\u001b[0m \u001b[39mopen\u001b[39;49m(\u001b[39m\"\u001b[39;49m\u001b[39m/path/to/mars.jpg\u001b[39;49m\u001b[39m\"\u001b[39;49m)\n",
      "\u001b[1;31mFileNotFoundError\u001b[0m: [Errno 2] No such file or directory: '/path/to/mars.jpg'"
     ]
    }
   ],
   "source": [
    "# Archivo inexistente \n",
    "open(\"/path/to/mars.jpg\")"
   ]
  },
  {
   "cell_type": "code",
   "execution_count": 2,
   "metadata": {},
   "outputs": [
    {
     "ename": "FileNotFoundError",
     "evalue": "[Errno 2] No such file or directory: '/path/to/mars.jpg'",
     "output_type": "error",
     "traceback": [
      "\u001b[1;31m---------------------------------------------------------------------------\u001b[0m",
      "\u001b[1;31mFileNotFoundError\u001b[0m                         Traceback (most recent call last)",
      "\u001b[1;32mc:\\Users\\gabo0\\Documents\\Launch X\\Modulos\\Modulo 10\\Modulo10.ipynb Cell 4'\u001b[0m in \u001b[0;36m<module>\u001b[1;34m\u001b[0m\n\u001b[0;32m      <a href='vscode-notebook-cell:/c%3A/Users/gabo0/Documents/Launch%20X/Modulos/Modulo%2010/Modulo10.ipynb#ch0000003?line=1'>2</a>\u001b[0m \t\u001b[39mopen\u001b[39m(\u001b[39m\"\u001b[39m\u001b[39m/path/to/mars.jpg\u001b[39m\u001b[39m\"\u001b[39m)\n\u001b[0;32m      <a href='vscode-notebook-cell:/c%3A/Users/gabo0/Documents/Launch%20X/Modulos/Modulo%2010/Modulo10.ipynb#ch0000003?line=3'>4</a>\u001b[0m \u001b[39mif\u001b[39;00m \u001b[39m__name__\u001b[39m \u001b[39m==\u001b[39m \u001b[39m'\u001b[39m\u001b[39m__main__\u001b[39m\u001b[39m'\u001b[39m:\n\u001b[1;32m----> <a href='vscode-notebook-cell:/c%3A/Users/gabo0/Documents/Launch%20X/Modulos/Modulo%2010/Modulo10.ipynb#ch0000003?line=4'>5</a>\u001b[0m \tmain()\n",
      "\u001b[1;32mc:\\Users\\gabo0\\Documents\\Launch X\\Modulos\\Modulo 10\\Modulo10.ipynb Cell 4'\u001b[0m in \u001b[0;36mmain\u001b[1;34m()\u001b[0m\n\u001b[0;32m      <a href='vscode-notebook-cell:/c%3A/Users/gabo0/Documents/Launch%20X/Modulos/Modulo%2010/Modulo10.ipynb#ch0000003?line=0'>1</a>\u001b[0m \u001b[39mdef\u001b[39;00m \u001b[39mmain\u001b[39m(): \n\u001b[1;32m----> <a href='vscode-notebook-cell:/c%3A/Users/gabo0/Documents/Launch%20X/Modulos/Modulo%2010/Modulo10.ipynb#ch0000003?line=1'>2</a>\u001b[0m \t\u001b[39mopen\u001b[39;49m(\u001b[39m\"\u001b[39;49m\u001b[39m/path/to/mars.jpg\u001b[39;49m\u001b[39m\"\u001b[39;49m)\n",
      "\u001b[1;31mFileNotFoundError\u001b[0m: [Errno 2] No such file or directory: '/path/to/mars.jpg'"
     ]
    }
   ],
   "source": [
    "def main(): \n",
    "\topen(\"/path/to/mars.jpg\")\n",
    "\n",
    "if __name__ == '__main__':\n",
    "\tmain()"
   ]
  },
  {
   "cell_type": "markdown",
   "metadata": {},
   "source": [
    "Los tracebacks incluyen: \n",
    "* Todas las rutas de acceso de archivos implicadas, para cada llamada a función. \n",
    "* Los números de línea asociados a cada ruta de acceso de archivo. \n",
    "* Los Nombres de las funciones, métodos o clases implicados en la generación de una excepción. \n",
    "* El nombre de la excepción que se ha producido."
   ]
  },
  {
   "cell_type": "markdown",
   "metadata": {},
   "source": [
    "## Controlando Excepciones\n",
    "Aunque se explica como controlar las excepciones al detectarlas, no es encesario detectarlas todo el tiempo. A veces es útil permitir que se generen excepciones para que otros autores de llamadas puedan tratar los errores"
   ]
  },
  {
   "cell_type": "markdown",
   "metadata": {},
   "source": [
    "### Try y Except de los bloques"
   ]
  },
  {
   "cell_type": "code",
   "execution_count": 6,
   "metadata": {},
   "outputs": [
    {
     "name": "stdout",
     "output_type": "stream",
     "text": [
      "No se encontró el archivo config.txt\n"
     ]
    }
   ],
   "source": [
    "# Usamos Try y Except para controlar la excepción 'FileNotFoundError\n",
    "# Después de try se agrega el código que posiblemente produzca una excepción\n",
    "try: \n",
    "    open('config.text')\n",
    "# Seguido de except con la posible excepción. Seguida del codigo que deba ejecutarse al producirse la excepción\n",
    "except FileNotFoundError:\n",
    "    print('No se encontró el archivo config.txt')"
   ]
  },
  {
   "cell_type": "code",
   "execution_count": 9,
   "metadata": {},
   "outputs": [
    {
     "ename": "PermissionError",
     "evalue": "[Errno 13] Permission denied: 'config.txt'",
     "output_type": "error",
     "traceback": [
      "\u001b[1;31m---------------------------------------------------------------------------\u001b[0m",
      "\u001b[1;31mPermissionError\u001b[0m                           Traceback (most recent call last)",
      "\u001b[1;32mc:\\Users\\gabo0\\Documents\\Launch X\\Modulos\\Modulo 10\\Modulo10.ipynb Cell 9'\u001b[0m in \u001b[0;36m<module>\u001b[1;34m\u001b[0m\n\u001b[0;32m      <a href='vscode-notebook-cell:/c%3A/Users/gabo0/Documents/Launch%20X/Modulos/Modulo%2010/Modulo10.ipynb#ch0000010?line=4'>5</a>\u001b[0m         \u001b[39mprint\u001b[39m(\u001b[39m'\u001b[39m\u001b[39mNo se encontró el archivo config.txt\u001b[39m\u001b[39m'\u001b[39m)\n\u001b[0;32m      <a href='vscode-notebook-cell:/c%3A/Users/gabo0/Documents/Launch%20X/Modulos/Modulo%2010/Modulo10.ipynb#ch0000010?line=6'>7</a>\u001b[0m \u001b[39mif\u001b[39;00m \u001b[39m__name__\u001b[39m \u001b[39m==\u001b[39m \u001b[39m'\u001b[39m\u001b[39m__main__\u001b[39m\u001b[39m'\u001b[39m:\n\u001b[1;32m----> <a href='vscode-notebook-cell:/c%3A/Users/gabo0/Documents/Launch%20X/Modulos/Modulo%2010/Modulo10.ipynb#ch0000010?line=7'>8</a>\u001b[0m     main()\n",
      "\u001b[1;32mc:\\Users\\gabo0\\Documents\\Launch X\\Modulos\\Modulo 10\\Modulo10.ipynb Cell 9'\u001b[0m in \u001b[0;36mmain\u001b[1;34m()\u001b[0m\n\u001b[0;32m      <a href='vscode-notebook-cell:/c%3A/Users/gabo0/Documents/Launch%20X/Modulos/Modulo%2010/Modulo10.ipynb#ch0000010?line=0'>1</a>\u001b[0m \u001b[39mdef\u001b[39;00m \u001b[39mmain\u001b[39m():\n\u001b[0;32m      <a href='vscode-notebook-cell:/c%3A/Users/gabo0/Documents/Launch%20X/Modulos/Modulo%2010/Modulo10.ipynb#ch0000010?line=1'>2</a>\u001b[0m     \u001b[39mtry\u001b[39;00m:\n\u001b[1;32m----> <a href='vscode-notebook-cell:/c%3A/Users/gabo0/Documents/Launch%20X/Modulos/Modulo%2010/Modulo10.ipynb#ch0000010?line=2'>3</a>\u001b[0m         configuration \u001b[39m=\u001b[39m \u001b[39mopen\u001b[39;49m(\u001b[39m'\u001b[39;49m\u001b[39mconfig.txt\u001b[39;49m\u001b[39m'\u001b[39;49m)\n\u001b[0;32m      <a href='vscode-notebook-cell:/c%3A/Users/gabo0/Documents/Launch%20X/Modulos/Modulo%2010/Modulo10.ipynb#ch0000010?line=3'>4</a>\u001b[0m     \u001b[39mexcept\u001b[39;00m \u001b[39mFileNotFoundError\u001b[39;00m:\n\u001b[0;32m      <a href='vscode-notebook-cell:/c%3A/Users/gabo0/Documents/Launch%20X/Modulos/Modulo%2010/Modulo10.ipynb#ch0000010?line=4'>5</a>\u001b[0m         \u001b[39mprint\u001b[39m(\u001b[39m'\u001b[39m\u001b[39mNo se encontró el archivo config.txt\u001b[39m\u001b[39m'\u001b[39m)\n",
      "\u001b[1;31mPermissionError\u001b[0m: [Errno 13] Permission denied: 'config.txt'"
     ]
    }
   ],
   "source": [
    "def main():\n",
    "    try:\n",
    "        configuration = open('config.txt')\n",
    "    except FileNotFoundError:\n",
    "        print('No se encontró el archivo config.txt')\n",
    "\n",
    "if __name__ == '__main__':\n",
    "    main()"
   ]
  },
  {
   "cell_type": "code",
   "execution_count": 14,
   "metadata": {},
   "outputs": [
    {
     "name": "stdout",
     "output_type": "stream",
     "text": [
      "Se encontró config.txt pero es un directorio, no se puede leer\n"
     ]
    }
   ],
   "source": [
    "def main():\n",
    "    try:\n",
    "        configuration = open('config.txt')\n",
    "    except FileNotFoundError:\n",
    "        print('No se encontró el archivo config.txt')\n",
    "    except PermissionError:\n",
    "        print('Se encontró config.txt pero es un directorio, no se puede leer')\n",
    "\n",
    "if __name__ == '__main__':\n",
    "    main()"
   ]
  },
  {
   "cell_type": "markdown",
   "metadata": {},
   "source": [
    "Cuando los errores son de naturaleza similar y no es necesario tratarlos de forma individual, se puedena grupar en parentesis en la línea except"
   ]
  },
  {
   "cell_type": "code",
   "execution_count": 16,
   "metadata": {},
   "outputs": [
    {
     "name": "stdout",
     "output_type": "stream",
     "text": [
      "Se encontró config.txt pero es un directorio. no se puede leer\n"
     ]
    }
   ],
   "source": [
    "def main(): \n",
    "    try:\n",
    "        configuration = open('config.txt')\n",
    "    except FileNotFoundError:\n",
    "        print('No se encontró el archivo config.txt')\n",
    "    except PermissionError:\n",
    "        print('Se encontró config.txt pero es un directorio. no se puede leer')\n",
    "    except (BlockingIOError, TimeoutError):\n",
    "        print('El sistema no pudo completar la acción')\n",
    "\n",
    "if __name__ == '__main__':\n",
    "    main()\n"
   ]
  },
  {
   "cell_type": "markdown",
   "metadata": {},
   "source": [
    "Si se requiere acceder al error asociado a la excepción, se debe actualizar except para incluir as. Arroja el error al que hace referencia."
   ]
  },
  {
   "cell_type": "code",
   "execution_count": 17,
   "metadata": {},
   "outputs": [
    {
     "name": "stdout",
     "output_type": "stream",
     "text": [
      "Hubo un error al tratar de leer ela rchivo: [Errno 2] No such file or directory: 'mars.jpg'\n"
     ]
    }
   ],
   "source": [
    "try: \n",
    "    open('mars.jpg')\n",
    "except FileNotFoundError as err:\n",
    "    print('Hubo un error al tratar de leer el archivo:', err)\n",
    "# err se convierte en una variable con el objeto de excepción como valor."
   ]
  },
  {
   "cell_type": "code",
   "execution_count": 20,
   "metadata": {},
   "outputs": [
    {
     "name": "stdout",
     "output_type": "stream",
     "text": [
      "No se encontró el archivo config.txt\n"
     ]
    }
   ],
   "source": [
    "# Si se detecta una excepción OSError genérica, se puede diferenciar mediante el atributo .errno\n",
    "try:\n",
    "    open('config.txt')\n",
    "except OSError as err:\n",
    "    if err.errno ==2:\n",
    "        print('No se encontró el archivo config.txt')\n",
    "    elif err.errno ==13:\n",
    "        print('Se encontró config. txt pero no se puede leer')"
   ]
  },
  {
   "cell_type": "markdown",
   "metadata": {},
   "source": [
    "## Generación de excepciones"
   ]
  },
  {
   "cell_type": "code",
   "execution_count": 21,
   "metadata": {},
   "outputs": [],
   "source": [
    "def water_left(astronauts, water_left, days_left):\n",
    "    uso_diario = astronauts*11\n",
    "    uso_total = uso_diario*days_left\n",
    "    total_water_left = water_left - uso_total\n",
    "    return f'Total de agua restante después de {days_left} dias es: {total_water_left} litros'"
   ]
  },
  {
   "cell_type": "code",
   "execution_count": 22,
   "metadata": {},
   "outputs": [
    {
     "data": {
      "text/plain": [
       "'Total de agua restante después de 2 dias es: -10 litros'"
      ]
     },
     "execution_count": 22,
     "metadata": {},
     "output_type": "execute_result"
    }
   ],
   "source": [
    "water_left(5, 100, 2)"
   ]
  },
  {
   "cell_type": "code",
   "execution_count": 23,
   "metadata": {},
   "outputs": [],
   "source": [
    "def water_left(astronauts, water_left, days_left):\n",
    "    uso_diario = astronauts*11\n",
    "    uso_total = uso_diario*days_left\n",
    "    total_water_left = water_left - uso_total\n",
    "    if total_water_left < 0:\n",
    "        raise RuntimeError (f' No hay sificiente agua para {astronauts} astronautas después de {days_left} días')\n",
    "    return f'Total de agua restante después de {days_left} dias es: {total_water_left} litros'"
   ]
  },
  {
   "cell_type": "code",
   "execution_count": 24,
   "metadata": {},
   "outputs": [
    {
     "ename": "RuntimeError",
     "evalue": " No hay sificiente agua para 5 astronautas después de 2 días",
     "output_type": "error",
     "traceback": [
      "\u001b[1;31m---------------------------------------------------------------------------\u001b[0m",
      "\u001b[1;31mRuntimeError\u001b[0m                              Traceback (most recent call last)",
      "\u001b[1;32mc:\\Users\\gabo0\\Documents\\Launch X\\Modulos\\Modulo 10\\Modulo10.ipynb Cell 20'\u001b[0m in \u001b[0;36m<module>\u001b[1;34m\u001b[0m\n\u001b[1;32m----> <a href='vscode-notebook-cell:/c%3A/Users/gabo0/Documents/Launch%20X/Modulos/Modulo%2010/Modulo10.ipynb#ch0000022?line=0'>1</a>\u001b[0m water_left(\u001b[39m5\u001b[39;49m, \u001b[39m100\u001b[39;49m, \u001b[39m2\u001b[39;49m)\n",
      "\u001b[1;32mc:\\Users\\gabo0\\Documents\\Launch X\\Modulos\\Modulo 10\\Modulo10.ipynb Cell 19'\u001b[0m in \u001b[0;36mwater_left\u001b[1;34m(astronauts, water_left, days_left)\u001b[0m\n\u001b[0;32m      <a href='vscode-notebook-cell:/c%3A/Users/gabo0/Documents/Launch%20X/Modulos/Modulo%2010/Modulo10.ipynb#ch0000021?line=3'>4</a>\u001b[0m total_water_left \u001b[39m=\u001b[39m water_left \u001b[39m-\u001b[39m uso_total\n\u001b[0;32m      <a href='vscode-notebook-cell:/c%3A/Users/gabo0/Documents/Launch%20X/Modulos/Modulo%2010/Modulo10.ipynb#ch0000021?line=4'>5</a>\u001b[0m \u001b[39mif\u001b[39;00m total_water_left \u001b[39m<\u001b[39m \u001b[39m0\u001b[39m:\n\u001b[1;32m----> <a href='vscode-notebook-cell:/c%3A/Users/gabo0/Documents/Launch%20X/Modulos/Modulo%2010/Modulo10.ipynb#ch0000021?line=5'>6</a>\u001b[0m     \u001b[39mraise\u001b[39;00m \u001b[39mRuntimeError\u001b[39;00m (\u001b[39mf\u001b[39m\u001b[39m'\u001b[39m\u001b[39m No hay sificiente agua para \u001b[39m\u001b[39m{\u001b[39;00mastronauts\u001b[39m}\u001b[39;00m\u001b[39m astronautas después de \u001b[39m\u001b[39m{\u001b[39;00mdays_left\u001b[39m}\u001b[39;00m\u001b[39m días\u001b[39m\u001b[39m'\u001b[39m)\n\u001b[0;32m      <a href='vscode-notebook-cell:/c%3A/Users/gabo0/Documents/Launch%20X/Modulos/Modulo%2010/Modulo10.ipynb#ch0000021?line=6'>7</a>\u001b[0m \u001b[39mreturn\u001b[39;00m \u001b[39mf\u001b[39m\u001b[39m'\u001b[39m\u001b[39mTotal de agua restante después de \u001b[39m\u001b[39m{\u001b[39;00mdays_left\u001b[39m}\u001b[39;00m\u001b[39m dias es: \u001b[39m\u001b[39m{\u001b[39;00mtotal_water_left\u001b[39m}\u001b[39;00m\u001b[39m litros\u001b[39m\u001b[39m'\u001b[39m\n",
      "\u001b[1;31mRuntimeError\u001b[0m:  No hay sificiente agua para 5 astronautas después de 2 días"
     ]
    }
   ],
   "source": [
    "water_left(5, 100, 2)"
   ]
  },
  {
   "cell_type": "code",
   "execution_count": 25,
   "metadata": {},
   "outputs": [
    {
     "ename": "NameError",
     "evalue": "name 'alert_navigation_system' is not defined",
     "output_type": "error",
     "traceback": [
      "\u001b[1;31m---------------------------------------------------------------------------\u001b[0m",
      "\u001b[1;31mRuntimeError\u001b[0m                              Traceback (most recent call last)",
      "\u001b[1;32mc:\\Users\\gabo0\\Documents\\Launch X\\Modulos\\Modulo 10\\Modulo10.ipynb Cell 21'\u001b[0m in \u001b[0;36m<module>\u001b[1;34m\u001b[0m\n\u001b[0;32m      <a href='vscode-notebook-cell:/c%3A/Users/gabo0/Documents/Launch%20X/Modulos/Modulo%2010/Modulo10.ipynb#ch0000023?line=0'>1</a>\u001b[0m \u001b[39mtry\u001b[39;00m:\n\u001b[1;32m----> <a href='vscode-notebook-cell:/c%3A/Users/gabo0/Documents/Launch%20X/Modulos/Modulo%2010/Modulo10.ipynb#ch0000023?line=1'>2</a>\u001b[0m     water_left(\u001b[39m5\u001b[39;49m, \u001b[39m100\u001b[39;49m, \u001b[39m2\u001b[39;49m)\n\u001b[0;32m      <a href='vscode-notebook-cell:/c%3A/Users/gabo0/Documents/Launch%20X/Modulos/Modulo%2010/Modulo10.ipynb#ch0000023?line=2'>3</a>\u001b[0m \u001b[39mexcept\u001b[39;00m \u001b[39mRuntimeError\u001b[39;00m \u001b[39mas\u001b[39;00m err:\n",
      "\u001b[1;32mc:\\Users\\gabo0\\Documents\\Launch X\\Modulos\\Modulo 10\\Modulo10.ipynb Cell 19'\u001b[0m in \u001b[0;36mwater_left\u001b[1;34m(astronauts, water_left, days_left)\u001b[0m\n\u001b[0;32m      <a href='vscode-notebook-cell:/c%3A/Users/gabo0/Documents/Launch%20X/Modulos/Modulo%2010/Modulo10.ipynb#ch0000021?line=4'>5</a>\u001b[0m \u001b[39mif\u001b[39;00m total_water_left \u001b[39m<\u001b[39m \u001b[39m0\u001b[39m:\n\u001b[1;32m----> <a href='vscode-notebook-cell:/c%3A/Users/gabo0/Documents/Launch%20X/Modulos/Modulo%2010/Modulo10.ipynb#ch0000021?line=5'>6</a>\u001b[0m     \u001b[39mraise\u001b[39;00m \u001b[39mRuntimeError\u001b[39;00m (\u001b[39mf\u001b[39m\u001b[39m'\u001b[39m\u001b[39m No hay sificiente agua para \u001b[39m\u001b[39m{\u001b[39;00mastronauts\u001b[39m}\u001b[39;00m\u001b[39m astronautas después de \u001b[39m\u001b[39m{\u001b[39;00mdays_left\u001b[39m}\u001b[39;00m\u001b[39m días\u001b[39m\u001b[39m'\u001b[39m)\n\u001b[0;32m      <a href='vscode-notebook-cell:/c%3A/Users/gabo0/Documents/Launch%20X/Modulos/Modulo%2010/Modulo10.ipynb#ch0000021?line=6'>7</a>\u001b[0m \u001b[39mreturn\u001b[39;00m \u001b[39mf\u001b[39m\u001b[39m'\u001b[39m\u001b[39mTotal de agua restante después de \u001b[39m\u001b[39m{\u001b[39;00mdays_left\u001b[39m}\u001b[39;00m\u001b[39m dias es: \u001b[39m\u001b[39m{\u001b[39;00mtotal_water_left\u001b[39m}\u001b[39;00m\u001b[39m litros\u001b[39m\u001b[39m'\u001b[39m\n",
      "\u001b[1;31mRuntimeError\u001b[0m:  No hay sificiente agua para 5 astronautas después de 2 días",
      "\nDuring handling of the above exception, another exception occurred:\n",
      "\u001b[1;31mNameError\u001b[0m                                 Traceback (most recent call last)",
      "\u001b[1;32mc:\\Users\\gabo0\\Documents\\Launch X\\Modulos\\Modulo 10\\Modulo10.ipynb Cell 21'\u001b[0m in \u001b[0;36m<module>\u001b[1;34m\u001b[0m\n\u001b[0;32m      <a href='vscode-notebook-cell:/c%3A/Users/gabo0/Documents/Launch%20X/Modulos/Modulo%2010/Modulo10.ipynb#ch0000023?line=1'>2</a>\u001b[0m     water_left(\u001b[39m5\u001b[39m, \u001b[39m100\u001b[39m, \u001b[39m2\u001b[39m)\n\u001b[0;32m      <a href='vscode-notebook-cell:/c%3A/Users/gabo0/Documents/Launch%20X/Modulos/Modulo%2010/Modulo10.ipynb#ch0000023?line=2'>3</a>\u001b[0m \u001b[39mexcept\u001b[39;00m \u001b[39mRuntimeError\u001b[39;00m \u001b[39mas\u001b[39;00m err:\n\u001b[1;32m----> <a href='vscode-notebook-cell:/c%3A/Users/gabo0/Documents/Launch%20X/Modulos/Modulo%2010/Modulo10.ipynb#ch0000023?line=3'>4</a>\u001b[0m     alert_navigation_system(err)\n",
      "\u001b[1;31mNameError\u001b[0m: name 'alert_navigation_system' is not defined"
     ]
    }
   ],
   "source": [
    "try:\n",
    "    water_left(5, 100, 2)\n",
    "except RuntimeError as err:\n",
    "    alert_navigation_system(err)"
   ]
  },
  {
   "cell_type": "code",
   "execution_count": 26,
   "metadata": {},
   "outputs": [
    {
     "ename": "TypeError",
     "evalue": "can't multiply sequence by non-int of type 'str'",
     "output_type": "error",
     "traceback": [
      "\u001b[1;31m---------------------------------------------------------------------------\u001b[0m",
      "\u001b[1;31mTypeError\u001b[0m                                 Traceback (most recent call last)",
      "\u001b[1;32mc:\\Users\\gabo0\\Documents\\Launch X\\Modulos\\Modulo 10\\Modulo10.ipynb Cell 22'\u001b[0m in \u001b[0;36m<module>\u001b[1;34m\u001b[0m\n\u001b[1;32m----> <a href='vscode-notebook-cell:/c%3A/Users/gabo0/Documents/Launch%20X/Modulos/Modulo%2010/Modulo10.ipynb#ch0000024?line=0'>1</a>\u001b[0m water_left(\u001b[39m'\u001b[39;49m\u001b[39m5\u001b[39;49m\u001b[39m'\u001b[39;49m, \u001b[39m'\u001b[39;49m\u001b[39m100\u001b[39;49m\u001b[39m'\u001b[39;49m, \u001b[39m'\u001b[39;49m\u001b[39m2\u001b[39;49m\u001b[39m'\u001b[39;49m)\n",
      "\u001b[1;32mc:\\Users\\gabo0\\Documents\\Launch X\\Modulos\\Modulo 10\\Modulo10.ipynb Cell 19'\u001b[0m in \u001b[0;36mwater_left\u001b[1;34m(astronauts, water_left, days_left)\u001b[0m\n\u001b[0;32m      <a href='vscode-notebook-cell:/c%3A/Users/gabo0/Documents/Launch%20X/Modulos/Modulo%2010/Modulo10.ipynb#ch0000021?line=0'>1</a>\u001b[0m \u001b[39mdef\u001b[39;00m \u001b[39mwater_left\u001b[39m(astronauts, water_left, days_left):\n\u001b[0;32m      <a href='vscode-notebook-cell:/c%3A/Users/gabo0/Documents/Launch%20X/Modulos/Modulo%2010/Modulo10.ipynb#ch0000021?line=1'>2</a>\u001b[0m     uso_diario \u001b[39m=\u001b[39m astronauts\u001b[39m*\u001b[39m\u001b[39m11\u001b[39m\n\u001b[1;32m----> <a href='vscode-notebook-cell:/c%3A/Users/gabo0/Documents/Launch%20X/Modulos/Modulo%2010/Modulo10.ipynb#ch0000021?line=2'>3</a>\u001b[0m     uso_total \u001b[39m=\u001b[39m uso_diario\u001b[39m*\u001b[39;49mdays_left\n\u001b[0;32m      <a href='vscode-notebook-cell:/c%3A/Users/gabo0/Documents/Launch%20X/Modulos/Modulo%2010/Modulo10.ipynb#ch0000021?line=3'>4</a>\u001b[0m     total_water_left \u001b[39m=\u001b[39m water_left \u001b[39m-\u001b[39m uso_total\n\u001b[0;32m      <a href='vscode-notebook-cell:/c%3A/Users/gabo0/Documents/Launch%20X/Modulos/Modulo%2010/Modulo10.ipynb#ch0000021?line=4'>5</a>\u001b[0m     \u001b[39mif\u001b[39;00m total_water_left \u001b[39m<\u001b[39m \u001b[39m0\u001b[39m:\n",
      "\u001b[1;31mTypeError\u001b[0m: can't multiply sequence by non-int of type 'str'"
     ]
    }
   ],
   "source": [
    "water_left('5', '100', '2')"
   ]
  },
  {
   "cell_type": "code",
   "execution_count": 27,
   "metadata": {},
   "outputs": [],
   "source": [
    "def water_left(astronauts, water_left, days_left):\n",
    "    for arg in [astronauts, water_left, days_left]:\n",
    "        try: \n",
    "            arg / 10\n",
    "        except TypeError:\n",
    "            raise TypeError(f'Los argumentos deben ser del tipo entero, pero recibimos: \"{arg}\"')\n",
    "    uso_diario = astronauts*11\n",
    "    uso_total = uso_diario*days_left\n",
    "    total_water_left = water_left - uso_total\n",
    "    if total_water_left < 0:\n",
    "        raise RuntimeError (f' No hay sificiente agua para {astronauts} astronautas después de {days_left} días')\n",
    "    return f'Total de agua restante después de {days_left} dias es: {total_water_left} litros'"
   ]
  },
  {
   "cell_type": "code",
   "execution_count": 28,
   "metadata": {},
   "outputs": [
    {
     "ename": "TypeError",
     "evalue": "Los argumentos deben ser del tipo entero, pero recibimos: \"5\"",
     "output_type": "error",
     "traceback": [
      "\u001b[1;31m---------------------------------------------------------------------------\u001b[0m",
      "\u001b[1;31mTypeError\u001b[0m                                 Traceback (most recent call last)",
      "\u001b[1;32mc:\\Users\\gabo0\\Documents\\Launch X\\Modulos\\Modulo 10\\Modulo10.ipynb Cell 23'\u001b[0m in \u001b[0;36mwater_left\u001b[1;34m(astronauts, water_left, days_left)\u001b[0m\n\u001b[0;32m      <a href='vscode-notebook-cell:/c%3A/Users/gabo0/Documents/Launch%20X/Modulos/Modulo%2010/Modulo10.ipynb#ch0000025?line=2'>3</a>\u001b[0m \u001b[39mtry\u001b[39;00m: \n\u001b[1;32m----> <a href='vscode-notebook-cell:/c%3A/Users/gabo0/Documents/Launch%20X/Modulos/Modulo%2010/Modulo10.ipynb#ch0000025?line=3'>4</a>\u001b[0m     arg \u001b[39m/\u001b[39;49m \u001b[39m10\u001b[39;49m\n\u001b[0;32m      <a href='vscode-notebook-cell:/c%3A/Users/gabo0/Documents/Launch%20X/Modulos/Modulo%2010/Modulo10.ipynb#ch0000025?line=4'>5</a>\u001b[0m \u001b[39mexcept\u001b[39;00m \u001b[39mTypeError\u001b[39;00m:\n",
      "\u001b[1;31mTypeError\u001b[0m: unsupported operand type(s) for /: 'str' and 'int'",
      "\nDuring handling of the above exception, another exception occurred:\n",
      "\u001b[1;31mTypeError\u001b[0m                                 Traceback (most recent call last)",
      "\u001b[1;32mc:\\Users\\gabo0\\Documents\\Launch X\\Modulos\\Modulo 10\\Modulo10.ipynb Cell 24'\u001b[0m in \u001b[0;36m<module>\u001b[1;34m\u001b[0m\n\u001b[1;32m----> <a href='vscode-notebook-cell:/c%3A/Users/gabo0/Documents/Launch%20X/Modulos/Modulo%2010/Modulo10.ipynb#ch0000026?line=0'>1</a>\u001b[0m water_left(\u001b[39m'\u001b[39;49m\u001b[39m5\u001b[39;49m\u001b[39m'\u001b[39;49m, \u001b[39m'\u001b[39;49m\u001b[39m100\u001b[39;49m\u001b[39m'\u001b[39;49m, \u001b[39m'\u001b[39;49m\u001b[39m2\u001b[39;49m\u001b[39m'\u001b[39;49m)\n",
      "\u001b[1;32mc:\\Users\\gabo0\\Documents\\Launch X\\Modulos\\Modulo 10\\Modulo10.ipynb Cell 23'\u001b[0m in \u001b[0;36mwater_left\u001b[1;34m(astronauts, water_left, days_left)\u001b[0m\n\u001b[0;32m      <a href='vscode-notebook-cell:/c%3A/Users/gabo0/Documents/Launch%20X/Modulos/Modulo%2010/Modulo10.ipynb#ch0000025?line=3'>4</a>\u001b[0m         arg \u001b[39m/\u001b[39m \u001b[39m10\u001b[39m\n\u001b[0;32m      <a href='vscode-notebook-cell:/c%3A/Users/gabo0/Documents/Launch%20X/Modulos/Modulo%2010/Modulo10.ipynb#ch0000025?line=4'>5</a>\u001b[0m     \u001b[39mexcept\u001b[39;00m \u001b[39mTypeError\u001b[39;00m:\n\u001b[1;32m----> <a href='vscode-notebook-cell:/c%3A/Users/gabo0/Documents/Launch%20X/Modulos/Modulo%2010/Modulo10.ipynb#ch0000025?line=5'>6</a>\u001b[0m         \u001b[39mraise\u001b[39;00m \u001b[39mTypeError\u001b[39;00m(\u001b[39mf\u001b[39m\u001b[39m'\u001b[39m\u001b[39mLos argumentos deben ser del tipo entero, pero recibimos: \u001b[39m\u001b[39m\"\u001b[39m\u001b[39m{\u001b[39;00marg\u001b[39m}\u001b[39;00m\u001b[39m\"\u001b[39m\u001b[39m'\u001b[39m)\n\u001b[0;32m      <a href='vscode-notebook-cell:/c%3A/Users/gabo0/Documents/Launch%20X/Modulos/Modulo%2010/Modulo10.ipynb#ch0000025?line=6'>7</a>\u001b[0m uso_diario \u001b[39m=\u001b[39m astronauts\u001b[39m*\u001b[39m\u001b[39m11\u001b[39m\n\u001b[0;32m      <a href='vscode-notebook-cell:/c%3A/Users/gabo0/Documents/Launch%20X/Modulos/Modulo%2010/Modulo10.ipynb#ch0000025?line=7'>8</a>\u001b[0m uso_total \u001b[39m=\u001b[39m uso_diario\u001b[39m*\u001b[39mdays_left\n",
      "\u001b[1;31mTypeError\u001b[0m: Los argumentos deben ser del tipo entero, pero recibimos: \"5\""
     ]
    }
   ],
   "source": [
    "water_left('5', '100', '2')"
   ]
  }
 ],
 "metadata": {
  "interpreter": {
   "hash": "69eb92836b941e979072a76c7fcfffe5419cca933cedd02cfafbdfca1a93358c"
  },
  "kernelspec": {
   "display_name": "Python 3.9.10 64-bit",
   "language": "python",
   "name": "python3"
  },
  "language_info": {
   "codemirror_mode": {
    "name": "ipython",
    "version": 3
   },
   "file_extension": ".py",
   "mimetype": "text/x-python",
   "name": "python",
   "nbconvert_exporter": "python",
   "pygments_lexer": "ipython3",
   "version": "3.9.10"
  },
  "orig_nbformat": 4
 },
 "nbformat": 4,
 "nbformat_minor": 2
}
