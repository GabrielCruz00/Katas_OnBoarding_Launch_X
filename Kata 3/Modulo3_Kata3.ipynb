{
 "cells": [
  {
   "cell_type": "markdown",
   "metadata": {},
   "source": [
    "# Ejercicio-Declaraciones if, elif, else"
   ]
  },
  {
   "cell_type": "code",
   "execution_count": 3,
   "metadata": {},
   "outputs": [
    {
     "name": "stdout",
     "output_type": "stream",
     "text": [
      "Introduzca la velocidad del asteroide\n",
      "¡AVERTENCIA! Asteroide acercandose a 49 km/s\n"
     ]
    }
   ],
   "source": [
    "# Ejercicio 1\n",
    "# Consideramos un dispositivo que mide la velocidad del asteroide\n",
    "print(\"Medición de la velocidad del asteroide\")\n",
    "velocidad=input(\"Velocidad del asteroide: \")\n",
    "\n",
    "if float(velocidad) > 25:\n",
    "    print(\"¡AVERTENCIA! Asteroide acercandose a \" + velocidad + \" km/s\")\n",
    "else:\n",
    "    print(\"¡SEGURO! Asteroide acercandose a \" + velocidad + \" km/s\")"
   ]
  },
  {
   "cell_type": "code",
   "execution_count": 4,
   "metadata": {},
   "outputs": [
    {
     "name": "stdout",
     "output_type": "stream",
     "text": [
      "Medición de velocidad del asteroide\n",
      "Asteroide entrando en la atmosfera a una velocidad de 19 km/s\n",
      "No Visible\n"
     ]
    }
   ],
   "source": [
    "# Ejercicio 2\n",
    "# Consideramos un dispositivo que mide la velocidad del asteroide\n",
    "print(\"Medición de velocidad del asteroide\")\n",
    "velocidad=input(\"Velocidad del asteroide: \")\n",
    "\n",
    "if float(velocidad) >= 20:\n",
    "    destello=input(\"Rayo de luz y/n\")\n",
    "    if destello == \"y\":\n",
    "        print(\"¡ASTEROIDE VISIBLE!\")\n",
    "        print(\"Entrando en la atmosfera a una velocidad de \" + velocidad + \" km/s\")\n",
    "    elif destello == \"n\":\n",
    "        print(\"Asteroide entrando en la atmosfera a una velocidad de \" + velocidad + \" km/s\")\n",
    "        print(\"No Visible\")\n",
    "else:\n",
    "    print(\"Asteroide entrando en la atmosfera a una velocidad de \" + velocidad + \" km/s\")\n",
    "    print(\"No Visible\")   "
   ]
  },
  {
   "cell_type": "markdown",
   "metadata": {},
   "source": [
    "# Ejercicio: Uso de Operadores AND y OR"
   ]
  },
  {
   "cell_type": "code",
   "execution_count": 16,
   "metadata": {},
   "outputs": [
    {
     "name": "stdout",
     "output_type": "stream",
     "text": [
      "Lectura de datos del asteroide\n",
      "Asterodide de 20 m entrando en la atmosfera a una velocidad de 20 km/s\n",
      "No Visible\n"
     ]
    }
   ],
   "source": [
    "# Ejercicio 3\n",
    "print(\"Lectura de datos del asteroide\")\n",
    "velocidad=input(\"Velocidad del asteroide \")\n",
    "tamaño=input(\"Tamaño del asteroide \")\n",
    "\n",
    "if float(tamaño) > 25 or float(velocidad) > 25:\n",
    "    print(\"¡ADVERTENCIA! Asteroide de \" + tamaño + \" m acercandose a \" + velocidad + \" km/s\")\n",
    "else:\n",
    "    destello=input(\"Rayo de luz: y/n \")\n",
    "    if destello == \"y\":\n",
    "        print(\"¡ASTEROIDE VISIBLE!\")\n",
    "        print(\"Entrando en la atmosfera a una velocidad de \" + velocidad + \" km/s y \" + tamaño + \" m de longitud\")\n",
    "    else:\n",
    "        print(\"Asterodide de \" + tamaño + \" m entrando en la atmosfera a una velocidad de \" + velocidad + \" km/s\")\n",
    "        print(\"No Visible\")\n",
    "    \n"
   ]
  }
 ],
 "metadata": {
  "interpreter": {
   "hash": "22b91c7fb9b8cb78ef7ad11feac6c5f64fa6221e0f0148b77a1c31cdd496b2f2"
  },
  "kernelspec": {
   "display_name": "Python 3.9.10 64-bit (windows store)",
   "language": "python",
   "name": "python3"
  },
  "language_info": {
   "codemirror_mode": {
    "name": "ipython",
    "version": 3
   },
   "file_extension": ".py",
   "mimetype": "text/x-python",
   "name": "python",
   "nbconvert_exporter": "python",
   "pygments_lexer": "ipython3",
   "version": "3.9.10"
  },
  "orig_nbformat": 4
 },
 "nbformat": 4,
 "nbformat_minor": 2
}
