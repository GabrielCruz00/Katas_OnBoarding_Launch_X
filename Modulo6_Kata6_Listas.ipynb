{
 "cells": [
  {
   "cell_type": "markdown",
   "metadata": {},
   "source": [
    "# Ejercicio 1: Crear y usar listas de Python"
   ]
  },
  {
   "cell_type": "code",
   "execution_count": 20,
   "metadata": {},
   "outputs": [
    {
     "name": "stdout",
     "output_type": "stream",
     "text": [
      "Planetas del sistema solar: ['Mercurio', 'Venus', 'Tierra', 'Marte', 'Júpiter', 'Saturno', 'Urano', 'Neptuno']\n",
      "Son 8 planetas.\n"
     ]
    }
   ],
   "source": [
    "# Creamos la lista de planetas y mostramos el número de planetas\n",
    "planetas = ['Mercurio', 'Venus', 'Tierra', 'Marte', 'Júpiter', 'Saturno', 'Urano', 'Neptuno']\n",
    "print(f'''Planetas del sistema solar: {planetas}\n",
    "Son {len(planetas)} planetas.''')"
   ]
  },
  {
   "cell_type": "code",
   "execution_count": 21,
   "metadata": {},
   "outputs": [
    {
     "name": "stdout",
     "output_type": "stream",
     "text": [
      "Son 9 planetas.\n",
      "El último planeta es: Plutón\n"
     ]
    }
   ],
   "source": [
    "# Ahora agregamos a plutón, mostramos el numero de planetas y el último elemento\n",
    "planetas.append('Plutón')\n",
    "print(f'''Son {len(planetas)} planetas.\n",
    "El último planeta es: {planetas[-1]}''')"
   ]
  },
  {
   "cell_type": "markdown",
   "metadata": {},
   "source": [
    "# Ejercicio 2: Trabajando con datos de una lista\n",
    "Usar slices para recuperar partes de una lista"
   ]
  },
  {
   "cell_type": "code",
   "execution_count": 22,
   "metadata": {},
   "outputs": [],
   "source": [
    "# Agregamos la lista de planetas \n",
    "planetas = ['Mercurio', 'Venus', 'Tierra', 'Marte', 'Júpiter', 'Saturno', 'Urano', 'Neptuno']"
   ]
  },
  {
   "cell_type": "code",
   "execution_count": 24,
   "metadata": {},
   "outputs": [
    {
     "name": "stdout",
     "output_type": "stream",
     "text": [
      "Ingrese el nombre de un planeta comenzando con una mayúscula: \n"
     ]
    }
   ],
   "source": [
    "#Solicitamos al usuario el nombre de un planeta\n",
    "print('Ingrese el nombre de un planeta comenzando con una mayúscula: ')\n",
    "name = input(\"Nombre del planeta: \")"
   ]
  },
  {
   "cell_type": "code",
   "execution_count": 26,
   "metadata": {},
   "outputs": [
    {
     "data": {
      "text/plain": [
       "2"
      ]
     },
     "execution_count": 26,
     "metadata": {},
     "output_type": "execute_result"
    }
   ],
   "source": [
    "# Buscamos el planeta en la lista a travez de index\n",
    "name_index = planetas.index(name)\n",
    "name_index"
   ]
  },
  {
   "cell_type": "code",
   "execution_count": 29,
   "metadata": {},
   "outputs": [
    {
     "name": "stdout",
     "output_type": "stream",
     "text": [
      "Los planetas más cercanos al sol a partir de Tierra son: \n",
      "['Mercurio', 'Venus']\n"
     ]
    }
   ],
   "source": [
    "# Mostraremos los planetas mas cercanos al sol a partir del planeta ingresado \n",
    "cercanos = planetas[0:name_index]\n",
    "print(f'''Los planetas más cercanos al sol a partir de {name} son: \n",
    "{cercanos}''')"
   ]
  },
  {
   "cell_type": "code",
   "execution_count": 31,
   "metadata": {},
   "outputs": [
    {
     "name": "stdout",
     "output_type": "stream",
     "text": [
      "Los planetas más lejanos al sol a partir de Tierra son:\n",
      "['Marte', 'Júpiter', 'Saturno', 'Urano', 'Neptuno']\n"
     ]
    }
   ],
   "source": [
    "# Mostramos los planetas más lejanos al sol a aprtir del planeta ingresado\n",
    "lejanos = planetas[name_index+1:]\n",
    "print(f'''Los planetas más lejanos al sol a partir de {name} son:\n",
    "{lejanos}''')"
   ]
  }
 ],
 "metadata": {
  "interpreter": {
   "hash": "22b91c7fb9b8cb78ef7ad11feac6c5f64fa6221e0f0148b77a1c31cdd496b2f2"
  },
  "kernelspec": {
   "display_name": "Python 3.9.10 64-bit (windows store)",
   "language": "python",
   "name": "python3"
  },
  "language_info": {
   "codemirror_mode": {
    "name": "ipython",
    "version": 3
   },
   "file_extension": ".py",
   "mimetype": "text/x-python",
   "name": "python",
   "nbconvert_exporter": "python",
   "pygments_lexer": "ipython3",
   "version": "3.9.10"
  },
  "orig_nbformat": 4
 },
 "nbformat": 4,
 "nbformat_minor": 2
}
