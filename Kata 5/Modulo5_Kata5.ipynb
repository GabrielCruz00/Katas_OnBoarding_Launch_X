{
 "cells": [
  {
   "cell_type": "markdown",
   "metadata": {},
   "source": [
    "# Ejercicio 1: Utilizar aoperadores aritméticos"
   ]
  },
  {
   "cell_type": "code",
   "execution_count": 1,
   "metadata": {},
   "outputs": [],
   "source": [
    "# Variables de distancias\n",
    "dist_tierra = 149597870\n",
    "dist_jupiter = 778547200"
   ]
  },
  {
   "cell_type": "code",
   "execution_count": 8,
   "metadata": {},
   "outputs": [
    {
     "name": "stdout",
     "output_type": "stream",
     "text": [
      "Distancia entre planetas: \n",
      "628949330 km\n",
      "390577533.93 millas\n"
     ]
    }
   ],
   "source": [
    "# Calculo de distancias \n",
    "distancia = abs(dist_jupiter-dist_tierra)\n",
    "print(f'''Distancia entre planetas: \n",
    "{distancia} km\n",
    "{distancia*0.621} millas''')"
   ]
  },
  {
   "cell_type": "markdown",
   "metadata": {},
   "source": [
    "## Ejercicio 2: Convierte cadenas en números y usa valores absolutos"
   ]
  },
  {
   "cell_type": "code",
   "execution_count": 10,
   "metadata": {},
   "outputs": [
    {
     "name": "stdout",
     "output_type": "stream",
     "text": [
      "Ingrese el nombre y distancia de los planetas respecto al sol \n",
      "Tierra: 149597870 km.\n",
      "Jupiter: 778547200 km.\n"
     ]
    }
   ],
   "source": [
    "# Almacenar entradas de usuario\n",
    "print(\"Ingrese el nombre y distancia de los planetas respecto al sol \")\n",
    "name1 = input(\"Nombre del primer planeta: \")\n",
    "dist1 = input(\"Distancia (km) del primer planeta: \")\n",
    "\n",
    "name2 = input(\" Nombre del segundo planeta: \")\n",
    "dist2 = input(\"Distancia (km) del segundo planeta: \")\n",
    "\n",
    "print(f'''{name1}: {dist1} km.\n",
    "{name2}: {dist2} km.''')"
   ]
  },
  {
   "cell_type": "code",
   "execution_count": 11,
   "metadata": {},
   "outputs": [],
   "source": [
    "# Convertir valores de cadena a número\n",
    "dist1_int = int(dist1)\n",
    "dist2_int = int(dist2)"
   ]
  },
  {
   "cell_type": "code",
   "execution_count": 12,
   "metadata": {},
   "outputs": [
    {
     "name": "stdout",
     "output_type": "stream",
     "text": [
      "Distancia entre Tierra y Jupiter\n",
      "628949330 km.\n",
      "390577533.93 millas.\n"
     ]
    }
   ],
   "source": [
    "# Realizar calculos y obtener resultados en valores absolutos \n",
    "\n",
    "dist_tot = abs(dist1_int - dist2_int)\n",
    "\n",
    "print(f'''Distancia entre {name1} y {name2}\n",
    "{dist_tot} km.\n",
    "{dist_tot*0.621} millas.''')"
   ]
  }
 ],
 "metadata": {
  "interpreter": {
   "hash": "22b91c7fb9b8cb78ef7ad11feac6c5f64fa6221e0f0148b77a1c31cdd496b2f2"
  },
  "kernelspec": {
   "display_name": "Python 3.9.10 64-bit (windows store)",
   "language": "python",
   "name": "python3"
  },
  "language_info": {
   "codemirror_mode": {
    "name": "ipython",
    "version": 3
   },
   "file_extension": ".py",
   "mimetype": "text/x-python",
   "name": "python",
   "nbconvert_exporter": "python",
   "pygments_lexer": "ipython3",
   "version": "3.9.10"
  },
  "orig_nbformat": 4
 },
 "nbformat": 4,
 "nbformat_minor": 2
}
