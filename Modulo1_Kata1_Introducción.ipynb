{
 "cells": [
  {
   "cell_type": "markdown",
   "metadata": {},
   "source": [
    "# Tu primer programa"
   ]
  },
  {
   "cell_type": "code",
   "execution_count": 2,
   "metadata": {},
   "outputs": [
    {
     "name": "stdout",
     "output_type": "stream",
     "text": [
      "Today's date is: 2022-02-06\n"
     ]
    }
   ],
   "source": [
    "# Finalizar el código apra muestre la fecha de hoy \n",
    "from datetime import date\n",
    "# print(\"Today's date is: \")\n",
    "print(\"Today's date is: \" + str(date.today()))"
   ]
  },
  {
   "cell_type": "markdown",
   "metadata": {},
   "source": [
    "# Construir un convertidor de unidades"
   ]
  },
  {
   "cell_type": "code",
   "execution_count": 8,
   "metadata": {},
   "outputs": [
    {
     "name": "stdout",
     "output_type": "stream",
     "text": [
      "Convertidor Parsecs a Años Luz\n",
      "0.2 parsecs son: 0.652312 años luz\n"
     ]
    }
   ],
   "source": [
    "print(\"Convertidor Parsecs a Años Luz\")\n",
    "# Se ingresa el número de Parsecs\n",
    "parsec = input(\"Número de Parsecs\")\n",
    "# Se cambia el tipo de variable para los parsec de string a float\n",
    "lightyear = float(parsec) * 3.26156\n",
    "print(str(parsec) + \" parsecs son: \" + str(lightyear) + \" años luz\")"
   ]
  }
 ],
 "metadata": {
  "interpreter": {
   "hash": "22b91c7fb9b8cb78ef7ad11feac6c5f64fa6221e0f0148b77a1c31cdd496b2f2"
  },
  "kernelspec": {
   "display_name": "Python 3.9.10 64-bit (windows store)",
   "language": "python",
   "name": "python3"
  },
  "language_info": {
   "name": "python",
   "version": "3.9.10"
  },
  "orig_nbformat": 4
 },
 "nbformat": 4,
 "nbformat_minor": 2
}
