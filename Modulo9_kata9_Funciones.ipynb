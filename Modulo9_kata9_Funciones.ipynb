{
 "cells": [
  {
   "cell_type": "markdown",
   "metadata": {},
   "source": [
    "# Ejercicio 1: Trabajar con argumentos en funciones"
   ]
  },
  {
   "cell_type": "code",
   "execution_count": 15,
   "metadata": {},
   "outputs": [],
   "source": [
    "# Tres lecturas de combustible y muestre el promedio \n",
    "def comb_lecture(tanque1, tanque2, tanque3):\n",
    "    total_comb = tanque1 + tanque2 + tanque3\n",
    "    promedio = total_comb / 3\n",
    "    print(f'''Combutible en el tanque 1: {tanque1} litros\n",
    "    Combustible en el tanque 2: {tanque2} litros\n",
    "    Combustible en el tanque 3: {tanque3} litros\n",
    "    El combustible promedio es {promedio} litros''')\n"
   ]
  },
  {
   "cell_type": "code",
   "execution_count": 16,
   "metadata": {},
   "outputs": [
    {
     "name": "stdout",
     "output_type": "stream",
     "text": [
      "Combutible en el tanque 1: 30 litros\n",
      "    Combustible en el tanque 2: 50 litros\n",
      "    Combustible en el tanque 3: 10 litros\n",
      "    El combustible promedio es 30.0 litros\n"
     ]
    }
   ],
   "source": [
    "# Llamamos a la función que nos muestra el reporte y el promedio \n",
    "\n",
    "comb_lecture(30, 50, 10)"
   ]
  },
  {
   "cell_type": "markdown",
   "metadata": {},
   "source": [
    "# Ejercicio 2: Trabajo con argumentos de palabra clave"
   ]
  },
  {
   "cell_type": "code",
   "execution_count": 23,
   "metadata": {},
   "outputs": [],
   "source": [
    "# información solicitada: Tiempo al destino, combustible y nombre del destino.\n",
    "\n",
    "def reporte(**informacion):\n",
    "    for elemento, descripcion in informacion.items():\n",
    "        print(f'''{elemento}: {descripcion}''')"
   ]
  },
  {
   "cell_type": "code",
   "execution_count": 24,
   "metadata": {},
   "outputs": [
    {
     "name": "stdout",
     "output_type": "stream",
     "text": [
      "Destino: Luna\n",
      "Prelanzamiento: 15 minutos\n",
      "Tiempo_de_Vuelo: 60 horas\n",
      "Tanque_Principal: 3000 litros\n",
      "Tanque_Secundario: 1500 litros\n"
     ]
    }
   ],
   "source": [
    "reporte(Destino = 'Luna', Prelanzamiento = '15 minutos', Tiempo_de_Vuelo = '60 horas', Tanque_Principal = \"3000 litros\", Tanque_Secundario = '1500 litros')"
   ]
  },
  {
   "cell_type": "code",
   "execution_count": 35,
   "metadata": {},
   "outputs": [],
   "source": [
    "# Ejemplo en la Kata\n",
    "\n",
    "def reporte_mision(destino, *minutos, **combustible):\n",
    "    print(f''' Destino de misión: {destino}\n",
    "    Tiempo total de viaje: {sum(minutos)} minutos\n",
    "    Combustible restante: {sum(combustible.values())} litros''')\n",
    "    for tanque, litros in combustible.items():\n",
    "        print(f'{tanque}: {litros} litros')\n",
    "    "
   ]
  },
  {
   "cell_type": "code",
   "execution_count": 36,
   "metadata": {},
   "outputs": [
    {
     "name": "stdout",
     "output_type": "stream",
     "text": [
      " Destino de misión: Luna\n",
      "    Tiempo total de viaje: 90 minutos\n",
      "    Combustible restante: 4500 litros\n",
      "Tanque1: 3000 litros\n",
      "Taqnque2: 1500 litros\n"
     ]
    }
   ],
   "source": [
    "reporte_mision('Luna', 20, 50, 20, Tanque1= 3000, Taqnque2=1500)"
   ]
  }
 ],
 "metadata": {
  "interpreter": {
   "hash": "22b91c7fb9b8cb78ef7ad11feac6c5f64fa6221e0f0148b77a1c31cdd496b2f2"
  },
  "kernelspec": {
   "display_name": "Python 3.9.10 64-bit (windows store)",
   "language": "python",
   "name": "python3"
  },
  "language_info": {
   "codemirror_mode": {
    "name": "ipython",
    "version": 3
   },
   "file_extension": ".py",
   "mimetype": "text/x-python",
   "name": "python",
   "nbconvert_exporter": "python",
   "pygments_lexer": "ipython3",
   "version": "3.9.10"
  },
  "orig_nbformat": 4
 },
 "nbformat": 4,
 "nbformat_minor": 2
}
