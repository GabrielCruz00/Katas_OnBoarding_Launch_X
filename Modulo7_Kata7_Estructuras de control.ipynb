{
 "cells": [
  {
   "cell_type": "markdown",
   "metadata": {},
   "source": [
    "# Ejercicio 1: Creación de un bucle 'While'\n",
    "Programa que solicita al usuario que ingrese una lista de planetas"
   ]
  },
  {
   "cell_type": "code",
   "execution_count": 1,
   "metadata": {},
   "outputs": [],
   "source": [
    "# Declaramos variables\n",
    "nuevo_planeta = ' ' # Variable para el valor ingresado\n",
    "planetas = [ ] #lista de planetas\n"
   ]
  },
  {
   "cell_type": "code",
   "execution_count": 2,
   "metadata": {},
   "outputs": [],
   "source": [
    "# mientras nuevo_planeta sea diferente de 'fin?\n",
    "while nuevo_planeta.lower() != 'fin':\n",
    "    # Si nuevo_planeta contiene una cadena\n",
    "    if nuevo_planeta:\n",
    "        # Agrega nuevo_planeta a planetas\n",
    "        planetas.append(nuevo_planeta)\n",
    "    # Guarda la entrada en nuevo_planeta\n",
    "    nuevo_planeta = input('Ingrese un planeta o \"fin\" para terminar: ')"
   ]
  },
  {
   "cell_type": "markdown",
   "metadata": {},
   "source": [
    "# Ejercicio 2: Creación de un ciclo for\n",
    "\n",
    "Programa que muestra la lista creada con el ciclo while"
   ]
  },
  {
   "cell_type": "code",
   "execution_count": 4,
   "metadata": {},
   "outputs": [
    {
     "name": "stdout",
     "output_type": "stream",
     "text": [
      "La lista de planetas es: \n",
      " \n",
      "Mercurio\n",
      "Venus\n",
      "Tierra\n",
      "Marte\n"
     ]
    }
   ],
   "source": [
    "print('La lista de planetas es: ')\n",
    "#Para planeta en planetas\n",
    "for planeta in planetas:\n",
    "    print(planeta)"
   ]
  }
 ],
 "metadata": {
  "interpreter": {
   "hash": "69eb92836b941e979072a76c7fcfffe5419cca933cedd02cfafbdfca1a93358c"
  },
  "kernelspec": {
   "display_name": "Python 3.9.10 64-bit",
   "language": "python",
   "name": "python3"
  },
  "language_info": {
   "codemirror_mode": {
    "name": "ipython",
    "version": 3
   },
   "file_extension": ".py",
   "mimetype": "text/x-python",
   "name": "python",
   "nbconvert_exporter": "python",
   "pygments_lexer": "ipython3",
   "version": "3.9.10"
  },
  "orig_nbformat": 4
 },
 "nbformat": 4,
 "nbformat_minor": 2
}
