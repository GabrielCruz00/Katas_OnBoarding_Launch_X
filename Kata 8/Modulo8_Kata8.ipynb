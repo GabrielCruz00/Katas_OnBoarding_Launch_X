{
 "cells": [
  {
   "cell_type": "markdown",
   "metadata": {},
   "source": [
    "## Ejercicio 1: Creación de diccionarios de Python"
   ]
  },
  {
   "cell_type": "code",
   "execution_count": 1,
   "metadata": {},
   "outputs": [],
   "source": [
    "# Creando el directorio planeta\n",
    "\n",
    "planeta = {\n",
    "    'nombre' : 'Marte',\n",
    "    'lunas' : 2\n",
    "}"
   ]
  },
  {
   "cell_type": "code",
   "execution_count": 5,
   "metadata": {},
   "outputs": [
    {
     "name": "stdout",
     "output_type": "stream",
     "text": [
      "Marte tiene 2 lunas\n"
     ]
    }
   ],
   "source": [
    "# Mostramos el nombre del planeta y el número de lunas\n",
    "print(planeta['nombre'], 'tiene', planeta['lunas'], \"lunas\")"
   ]
  },
  {
   "cell_type": "code",
   "execution_count": 7,
   "metadata": {},
   "outputs": [],
   "source": [
    "# Agregamos nuevos valores al diccionario \n",
    "planeta.update({\n",
    "    'diametro (km)' : {\n",
    "        'polar' : 6752,\n",
    "        'ecuatorial' : 6792\n",
    "    }\n",
    "})"
   ]
  },
  {
   "cell_type": "code",
   "execution_count": 10,
   "metadata": {},
   "outputs": [
    {
     "name": "stdout",
     "output_type": "stream",
     "text": [
      "Diametro polar de Marte es: 6752 km\n"
     ]
    }
   ],
   "source": [
    "# Imprimimos el nombre del planeta con su circunferencia polar\n",
    "\n",
    "print(\"Diametro polar de\", planeta['nombre'], \"es:\", planeta['diametro (km)']['polar'], \"km\")"
   ]
  },
  {
   "cell_type": "markdown",
   "metadata": {},
   "source": [
    "# Ejercicio 2: Programación dinámica con diccionarios"
   ]
  },
  {
   "cell_type": "code",
   "execution_count": 5,
   "metadata": {},
   "outputs": [
    {
     "data": {
      "text/plain": [
       "12"
      ]
     },
     "execution_count": 5,
     "metadata": {},
     "output_type": "execute_result"
    }
   ],
   "source": [
    "# Planetas y lunas \n",
    "planet_moons = {\n",
    "    'mercurio' : 0,\n",
    "    'venus' : 0,\n",
    "    'tierra' : 1,\n",
    "    'marte' : 2,\n",
    "    'jupiter' : 79,\n",
    "    'saturno' : 82,\n",
    "    'urano' : 27,\n",
    "    'neptuno' : 14,\n",
    "    'pluton' : 5,\n",
    "    'haumea' : 2,\n",
    "    'makemake' : 1,\n",
    "    'eris' : 1\n",
    "}\n",
    "\n",
    "len(planet_moons)"
   ]
  },
  {
   "cell_type": "code",
   "execution_count": 37,
   "metadata": {},
   "outputs": [
    {
     "name": "stdout",
     "output_type": "stream",
     "text": [
      "dict_values([0, 0, 1, 2, 79, 82, 27, 14, 5, 2, 1, 1])\n",
      "12\n"
     ]
    }
   ],
   "source": [
    "# Almacenamos los valores de planet moons en una variable llamada lunas y almacenamos \n",
    "# el número de planetas en una variable llamada planetas\n",
    "lunas = planet_moons.values()\n",
    "\n",
    "planetas = len(planet_moons.keys())\n",
    "\n",
    "print(lunas)\n",
    "print(planetas)"
   ]
  },
  {
   "cell_type": "code",
   "execution_count": 38,
   "metadata": {},
   "outputs": [
    {
     "name": "stdout",
     "output_type": "stream",
     "text": [
      "El número de lunas en el sistema solar es: 214\n"
     ]
    }
   ],
   "source": [
    "# Para contar l número de lunas\n",
    "lunas_total = 0\n",
    "for luna in lunas:\n",
    "    lunas_total = lunas_total + luna\n",
    "\n",
    "print(f'El número de lunas en el sistema solar es: {lunas_total}') \n"
   ]
  },
  {
   "cell_type": "code",
   "execution_count": 40,
   "metadata": {},
   "outputs": [
    {
     "name": "stdout",
     "output_type": "stream",
     "text": [
      "El promedio de lunas por planeta en el sistema solar es: 17.833333333333332\n"
     ]
    }
   ],
   "source": [
    "# Calculamos y mostramso el promedio de lunas\n",
    "promedio = lunas_total / planetas\n",
    "\n",
    "print(f'El promedio de lunas por planeta en el sistema solar es: {promedio}')"
   ]
  }
 ],
 "metadata": {
  "interpreter": {
   "hash": "22b91c7fb9b8cb78ef7ad11feac6c5f64fa6221e0f0148b77a1c31cdd496b2f2"
  },
  "kernelspec": {
   "display_name": "Python 3.9.10 64-bit (windows store)",
   "language": "python",
   "name": "python3"
  },
  "language_info": {
   "codemirror_mode": {
    "name": "ipython",
    "version": 3
   },
   "file_extension": ".py",
   "mimetype": "text/x-python",
   "name": "python",
   "nbconvert_exporter": "python",
   "pygments_lexer": "ipython3",
   "version": "3.9.10"
  },
  "orig_nbformat": 4
 },
 "nbformat": 4,
 "nbformat_minor": 2
}
